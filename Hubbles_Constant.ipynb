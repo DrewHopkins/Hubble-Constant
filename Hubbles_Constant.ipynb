{
  "nbformat": 4,
  "nbformat_minor": 0,
  "metadata": {
    "colab": {
      "name": "Hubbles Constant",
      "provenance": [],
      "authorship_tag": "ABX9TyMp+//zCh/Y2w51HyWuX4Pr",
      "include_colab_link": true
    },
    "kernelspec": {
      "name": "python3",
      "display_name": "Python 3"
    },
    "language_info": {
      "name": "python"
    }
  },
  "cells": [
    {
      "cell_type": "markdown",
      "metadata": {
        "id": "view-in-github",
        "colab_type": "text"
      },
      "source": [
        "<a href=\"https://colab.research.google.com/github/DrewHopkins/Hubble-Constant/blob/main/Hubbles_Constant.ipynb\" target=\"_parent\"><img src=\"https://colab.research.google.com/assets/colab-badge.svg\" alt=\"Open In Colab\"/></a>"
      ]
    },
    {
      "cell_type": "code",
      "metadata": {
        "colab": {
          "resources": {
            "http://localhost:8080/nbextensions/google.colab/files.js": {
              "data": "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",
              "ok": true,
              "headers": [
                [
                  "content-type",
                  "application/javascript"
                ]
              ],
              "status": 200,
              "status_text": ""
            }
          },
          "base_uri": "https://localhost:8080/",
          "height": 92
        },
        "id": "uN9ZEHmxqgX6",
        "outputId": "9df9a1a9-dd28-44cf-a2f8-4d609a7e1f40"
      },
      "source": [
        "import pandas as pd\n",
        "from google.colab import files\n",
        "import io\n",
        "uploaded = files.upload()"
      ],
      "execution_count": null,
      "outputs": [
        {
          "output_type": "display_data",
          "data": {
            "text/html": [
              "\n",
              "     <input type=\"file\" id=\"files-c641e587-074d-4ca4-8f09-dd9fbaf2dc94\" name=\"files[]\" multiple disabled\n",
              "        style=\"border:none\" />\n",
              "     <output id=\"result-c641e587-074d-4ca4-8f09-dd9fbaf2dc94\">\n",
              "      Upload widget is only available when the cell has been executed in the\n",
              "      current browser session. Please rerun this cell to enable.\n",
              "      </output>\n",
              "      <script src=\"/nbextensions/google.colab/files.js\"></script> "
            ],
            "text/plain": [
              "<IPython.core.display.HTML object>"
            ]
          },
          "metadata": {
            "tags": []
          }
        },
        {
          "output_type": "stream",
          "text": [
            "Saving view.php.csv to view.php.csv\n"
          ],
          "name": "stdout"
        }
      ]
    },
    {
      "cell_type": "code",
      "metadata": {
        "id": "8_mG1iwlq4Nr"
      },
      "source": [
        "df = pd.read_csv(io.StringIO(uploaded['view.php.csv'].decode('utf- 8')))"
      ],
      "execution_count": null,
      "outputs": []
    },
    {
      "cell_type": "code",
      "metadata": {
        "colab": {
          "base_uri": "https://localhost:8080/"
        },
        "id": "FIfOb2osrKyl",
        "outputId": "e6a200c1-c5b0-48cf-9d3e-9bf54d87284e"
      },
      "source": [
        "print (df)"
      ],
      "execution_count": null,
      "outputs": [
        {
          "output_type": "stream",
          "text": [
            "         z           d       d_err\n",
            "0    0.010     51.5229     8.77905\n",
            "1    0.010     43.6516     7.63887\n",
            "2    0.010     55.4626     9.96117\n",
            "3    0.013     63.6796     9.09091\n",
            "4    0.013     55.7186     7.69781\n",
            "..     ...         ...         ...\n",
            "201  1.305   7979.9500  1102.47000\n",
            "202  1.340   9638.2900  1375.96000\n",
            "203  1.370  11117.3000  1279.93000\n",
            "204  1.390   9549.9300   835.60200\n",
            "205  1.755  11749.0000  1893.71000\n",
            "\n",
            "[206 rows x 3 columns]\n"
          ],
          "name": "stdout"
        }
      ]
    },
    {
      "cell_type": "code",
      "metadata": {
        "colab": {
          "base_uri": "https://localhost:8080/"
        },
        "id": "TQsk1zpBrR7S",
        "outputId": "26988bce-62c8-47c2-d634-56d0d5ee0899"
      },
      "source": [
        "col_list = ['z','d','d_err']\n",
        "print (df['z'])"
      ],
      "execution_count": null,
      "outputs": [
        {
          "output_type": "stream",
          "text": [
            "0      0.010\n",
            "1      0.010\n",
            "2      0.010\n",
            "3      0.013\n",
            "4      0.013\n",
            "       ...  \n",
            "201    1.305\n",
            "202    1.340\n",
            "203    1.370\n",
            "204    1.390\n",
            "205    1.755\n",
            "Name: z, Length: 206, dtype: float64\n"
          ],
          "name": "stdout"
        }
      ]
    },
    {
      "cell_type": "code",
      "metadata": {
        "id": "2j5a7g9xrxel"
      },
      "source": [
        "import matplotlib.pyplot as plt\n",
        "import numpy as np\n",
        "from sklearn.metrics import r2_score\n",
        "from sklearn.linear_model import LinearRegression \n",
        "from sklearn.datasets import make_regression \n",
        "from sklearn import metrics\n",
        "from scipy import stats"
      ],
      "execution_count": null,
      "outputs": []
    },
    {
      "cell_type": "code",
      "metadata": {
        "id": "6VEUFigLr1YS"
      },
      "source": [
        "c = 3*10**5\n",
        "z = df['z']\n",
        "d = df['d']\n",
        "d_err = df['d_err']\n",
        "rad_vel = z * c\n",
        "z=np.array(z).reshape(-1, 1) \n",
        "d= np.array(d).reshape(-1, 1)\n",
        "rad_vel= np.array(rad_vel).reshape(-1, 1)\n",
        "X = d\n",
        "Y = rad_vel"
      ],
      "execution_count": null,
      "outputs": []
    },
    {
      "cell_type": "code",
      "metadata": {
        "colab": {
          "base_uri": "https://localhost:8080/",
          "height": 431
        },
        "id": "Dojde-I_sBMP",
        "outputId": "27e3e92b-48f8-4ae2-ba6c-35bcdb9a691a"
      },
      "source": [
        "lr_fi_true = LinearRegression(fit_intercept=True).fit(X, Y) \n",
        "lr_fi_false = LinearRegression(fit_intercept=False).fit(X, Y)\n",
        "#Coeff\n",
        "r_sq_f = lr_fi_false.score(d, rad_vel) \n",
        "r_sq_t = lr_fi_true.score(X, Y)\n",
        "#line eqn populated\n",
        "lr_fi_true_yhat = np.dot(X, lr_fi_true.coef_) + lr_fi_true.intercept_ \n",
        "lr_fi_false_yhat = np.dot(X, lr_fi_false.coef_) + lr_fi_false.intercept_\n",
        "#make predictions\n",
        "rad_vel_pred = lr_fi_false.predict(X)\n",
        "#print stuff\n",
        "print('coefficient of determination for int=0:', r_sq_f) \n",
        "print('coefficient of determination:', r_sq_t) \n",
        "print('intercept:', lr_fi_true.intercept_) \n",
        "print('slope:', lr_fi_true.coef_)\n",
        "print('Mean Absolute Error:', metrics.mean_absolute_error(rad_vel, rad_vel_pred))\n",
        "print('Mean Squared Error:', metrics.mean_squared_error(rad_vel, rad_vel_pred))\n",
        "print('Root Mean Squared Error:', np.sqrt(metrics.mean_squared_error(rad_vel, rad_vel_pred)))\n",
        "#plot points\n",
        "plt.scatter(df[\"d\"], df[\"z\"]*c , label='Actual points')\n",
        "#plot fits\n",
        "plt.plot(d, lr_fi_true_yhat, 'r--', label='fit_intercept=True') \n",
        "plt.plot(d, lr_fi_false_yhat, 'r-', label='fit_intercept=False')\n",
        "plt.legend()\n",
        "#graph limits\n",
        "plt.xlim(0, 14000) \n",
        "plt.ylim(0, 500000)\n",
        "plt.xlabel('Distance (Mpc)') \n",
        "plt.ylabel('Radial Velocity (km/s)') \n",
        "plt.title('Full Data')\n",
        "#error bars\n",
        "plt.errorbar(d, rad_vel, xerr=d_err, fmt='.k', color='black',ecolor='blue', elinewidth=3, capsize=0);\n",
        "plt.show()\n",
        "\n"
      ],
      "execution_count": null,
      "outputs": [
        {
          "output_type": "stream",
          "text": [
            "coefficient of determination for int=0: 0.9612702151679687\n",
            "coefficient of determination: 0.9678049989190689\n",
            "intercept: [13969.41078558]\n",
            "slope: [[40.41944549]]\n",
            "Mean Absolute Error: 15113.387658807262\n",
            "Mean Squared Error: 486063896.29220706\n",
            "Root Mean Squared Error: 22046.85683475554\n"
          ],
          "name": "stdout"
        },
        {
          "output_type": "display_data",
          "data": {
            "image/png": "[encoded data removed]",
            "text/plain": [
              "<Figure size 432x288 with 1 Axes>"
            ]
          },
          "metadata": {
            "tags": [],
            "needs_background": "light"
          }
        }
      ]
    },
    {
      "cell_type": "code",
      "metadata": {
        "colab": {
          "base_uri": "https://localhost:8080/",
          "height": 431
        },
        "id": "IXV7UpTn4PPw",
        "outputId": "8409779a-3e6b-45b1-dc87-e19d8487a421"
      },
      "source": [
        "z = z[z <= 0.1]\n",
        "d = d[d <= 500]\n",
        "d_err = d_err[d_err <= 53]\n",
        "rad_vel = z * c\n",
        "rad_vel = rad_vel[rad_vel <= 30000]\n",
        "\n",
        "z=np.array(z).reshape(-1, 1) \n",
        "d= np.array(d).reshape(-1, 1)\n",
        "rad_vel= np.array(rad_vel).reshape(-1, 1)\n",
        "\n",
        "X = d\n",
        "Y = rad_vel\n",
        "\n",
        "lr_fi_true = LinearRegression(fit_intercept=True).fit(X, Y) \n",
        "lr_fi_false = LinearRegression(fit_intercept=False).fit(X, Y)\n",
        "#Coeff\n",
        "r_sq_f = lr_fi_false.score(d, rad_vel) \n",
        "r_sq_t = lr_fi_true.score(X, Y)\n",
        "#line eqn populated\n",
        "lr_fi_true_yhat = np.dot(X, lr_fi_true.coef_) + lr_fi_true.intercept_ \n",
        "lr_fi_false_yhat = np.dot(X, lr_fi_false.coef_) + lr_fi_false.intercept_\n",
        "#make predictions\n",
        "rad_vel_pred = lr_fi_false.predict(X)\n",
        "#print stuff\n",
        "print('coefficient of determination for int=0:', r_sq_f) \n",
        "print('coefficient of determination:', r_sq_t) \n",
        "print('intercept:', lr_fi_true.intercept_) \n",
        "print('slope:', lr_fi_true.coef_)\n",
        "print('Mean Absolute Error:', metrics.mean_absolute_error(rad_vel, rad_vel_pred))\n",
        "print('Mean Squared Error:', metrics.mean_squared_error(rad_vel, rad_vel_pred))\n",
        "print('Root Mean Squared Error:', np.sqrt(metrics.mean_squared_error(rad_vel, rad_vel_pred)))\n",
        "#plot points\n",
        "plt.scatter(X, Y, label='Actual points')\n",
        "#plot fits\n",
        "plt.plot(d, lr_fi_true_yhat, 'r--', label='fit_intercept=True') \n",
        "plt.plot(d, lr_fi_false_yhat, 'r-', label='fit_intercept=False')\n",
        "plt.legend()\n",
        "#graph limits\n",
        "plt.xlim(0, 500) \n",
        "plt.ylim(0, 30000)\n",
        "plt.xlabel('Distance (Mpc)') \n",
        "plt.ylabel('Radial Velocity (km/s)') \n",
        "plt.title('Truncated Data')\n",
        "#error bars\n",
        "plt.errorbar(d, rad_vel, xerr=d_err, fmt='.k', color='black',ecolor='blue', elinewidth=3, capsize=0);\n",
        "plt.show()\n"
      ],
      "execution_count": null,
      "outputs": [
        {
          "output_type": "stream",
          "text": [
            "coefficient of determination for int=0: 0.9747319071210367\n",
            "coefficient of determination: 0.9753390763720275\n",
            "intercept: [272.13325179]\n",
            "slope: [[60.05237979]]\n",
            "Mean Absolute Error: 676.6094199905747\n",
            "Mean Squared Error: 793850.2007876761\n",
            "Root Mean Squared Error: 890.9827163237658\n"
          ],
          "name": "stdout"
        },
        {
          "output_type": "display_data",
          "data": {
            "image/png": "[encoded data removed]",
            "text/plain": [
              "<Figure size 432x288 with 1 Axes>"
            ]
          },
          "metadata": {
            "tags": [],
            "needs_background": "light"
          }
        }
      ]
    },
    {
      "cell_type": "code",
      "metadata": {
        "colab": {
          "base_uri": "https://localhost:8080/"
        },
        "id": "vxFdBcKM0Iax",
        "outputId": "7579bb6b-2198-4152-c875-084bb43ee398"
      },
      "source": [
        "H = lr_fi_true.coef_\n",
        "print (H)"
      ],
      "execution_count": null,
      "outputs": [
        {
          "output_type": "stream",
          "text": [
            "[[60.05237979]]\n"
          ],
          "name": "stdout"
        }
      ]
    },
    {
      "cell_type": "code",
      "metadata": {
        "id": "e_lmr2Rz0ghD",
        "colab": {
          "base_uri": "https://localhost:8080/"
        },
        "outputId": "e36bb11c-5026-48a5-cdc0-8b04c20ba1ca"
      },
      "source": [
        "print ('The universe is ',1/H * 3.09 * 10 ** 19, 'seconds old')"
      ],
      "execution_count": null,
      "outputs": [
        {
          "output_type": "stream",
          "text": [
            "The universe is  [[5.14550799e+17]] seconds old\n"
          ],
          "name": "stdout"
        }
      ]
    },
    {
      "cell_type": "code",
      "metadata": {
        "colab": {
          "base_uri": "https://localhost:8080/"
        },
        "id": "yGEz27l223xx",
        "outputId": "8906a4b2-51f9-48f3-8df8-39b7aea3c885"
      },
      "source": [
        "print ('The universe is ',1/H * 3.09 * 10 ** 19/(3.16 * 10 ** 7), 'years old')"
      ],
      "execution_count": null,
      "outputs": [
        {
          "output_type": "stream",
          "text": [
            "The universe is  [[1.62832531e+10]] years old\n"
          ],
          "name": "stdout"
        }
      ]
    },
    {
      "cell_type": "code",
      "metadata": {
        "colab": {
          "base_uri": "https://localhost:8080/"
        },
        "id": "BP3gZOJy3Un5",
        "outputId": "b23a21b3-fc2c-4156-b683-29b7c4bb7b25"
      },
      "source": [
        "t = (2/3)*(1/H)\n",
        "t = t * 3.09 * 10 ** 19/(3.16 * 10 ** 7)\n",
        "print (' by the decelleration of gravity model we calculate the age of the unvierse to be', t, \"years old\")"
      ],
      "execution_count": null,
      "outputs": [
        {
          "output_type": "stream",
          "text": [
            " by the decelleration of gravity model we calculate the age of the unvierse to be [[1.08555021e+10]] years old\n"
          ],
          "name": "stdout"
        }
      ]
    },
    {
      "cell_type": "code",
      "metadata": {
        "id": "NXFeY0o43ubN"
      },
      "source": [
        "import matplotlib.pyplot as plt \n",
        "import numpy as np\n",
        "import scipy.optimize as opt\n",
        "c = 3*10**5\n",
        "z = df['z']\n",
        "d = df['d'] \n",
        "d_err = df['d_err'] \n",
        "rad_vel= z * c"
      ],
      "execution_count": null,
      "outputs": []
    },
    {
      "cell_type": "code",
      "metadata": {
        "id": "69fxdaU7AhzX"
      },
      "source": [
        "def chi_sqaured(func,xdata,ydata,yerr,*parameters): \n",
        "  return np.sum( ((func(xdata,*popt)-ydata)/yerr)**2)"
      ],
      "execution_count": null,
      "outputs": []
    },
    {
      "cell_type": "code",
      "metadata": {
        "id": "KI2x6bxSBxmh"
      },
      "source": [
        "zmax = 1.7"
      ],
      "execution_count": null,
      "outputs": []
    },
    {
      "cell_type": "code",
      "metadata": {
        "id": "Wi-YxsOPEBmz"
      },
      "source": [
        "def linear_fit_function(x,H):\n",
        "  y=c*x/H\n",
        "  return y\n"
      ],
      "execution_count": null,
      "outputs": []
    },
    {
      "cell_type": "code",
      "metadata": {
        "id": "yufZr-SnCVo3"
      },
      "source": [
        "def quadratic_fit_function(x,H,q): \n",
        "  y = c * ( x + 0.5*(1 - q) * x*x)/H\n",
        "  return y"
      ],
      "execution_count": null,
      "outputs": []
    },
    {
      "cell_type": "code",
      "metadata": {
        "colab": {
          "base_uri": "https://localhost:8080/",
          "height": 365
        },
        "id": "2S2DfvLYDn6C",
        "outputId": "d15f61c4-cbb1-4574-9225-25ed30ab6902"
      },
      "source": [
        "popt, pcov = opt.curve_fit(quadratic_fit_function, z[z<=zmax], d[z<=zmax], sigma = d_err[z<=zmax],absolute_sigma = True)\n",
        "\n",
        "\n",
        "\n",
        "perr = np.sqrt(np.diag(pcov))\n",
        "yval = quadratic_fit_function(z[z<=zmax],*popt) \n",
        "dydq = c*z[z<=zmax]/(2*popt[0])\n",
        "dydh = yval/popt[0]\n",
        "yerr = np.sqrt( dydh**2 * pcov[0,0] + dydq**2 * pcov[1,1] + 2*dydq*dydh*pcov[0,1])\n",
        "\n",
        "\n",
        "\n",
        "print('Quadratic fit Hubble constant for z < %.2f = %.2f +- %.2f' % (zmax, popt[0],perr[0]))\n",
        "print('Quadratic fit for the deceleration constant q = %.2f +- %.2f' % (popt[1],perr[1]))\n",
        "print('The percentage of matter-energy in the Universe that is in Dark Energy is %.2f' % (0.5*0.3 - popt[1 ]))\n",
        "\n",
        "\n",
        "plt.plot(z[z<=zmax],quadratic_fit_function(z[z<=zmax],*popt),'-k',label='H=%.2f+-%.2f, q=%.2f+-%.2f'%(popt[0],perr[0],popt[1],perr[1])) \n",
        "plt.fill_between(z[z<=zmax],quadratic_fit_function(z[z<=zmax],*popt)- yerr,quadratic_fit_function(z[z<=zmax],*popt)+yerr, alpha=.5, edgecolor='crimson', facecolor='crimson')\n",
        "popt,pcov = opt.curve_fit(linear_fit_function, z[z<=zmax], d[z<=zmax], sigma = d_err[z<=zmax],absolute_sigma = True)\n",
        "perr = np.sqrt(np.diag(pcov))\n",
        "yerr = np.abs( linear_fit_function(z[z<=zmax],*popt)/popt[0] * perr[0])\n",
        "\n",
        "plt.scatter(z[z<=zmax], d[z<=zmax], color='black', s=1);\n",
        "plt.errorbar(z[z<=zmax], d[z<=zmax], yerr=d_err[z<=zmax], fmt=\"o\")\n",
        "\n",
        "plt.plot(z[z<=zmax], linear_fit_function(z[z<=zmax],*popt),'--k',label='H=%.2f+-%.2f'%(popt[0],perr[0]))\n",
        "plt.fill_between(z[z<=zmax],linear_fit_function(z[z<=zmax],popt[0])- yerr,linear_fit_function(z[z<=zmax],popt[0])+yerr,alpha=.5, edgecolor='cyan')\n",
        "plt.xlabel('z')\n",
        "plt.ylabel('Distance Modulus') \n",
        "plt.title(' z < %.1f' % zmax) \n",
        "plt.legend(loc='upper left') \n",
        "plt.draw()"
      ],
      "execution_count": null,
      "outputs": [
        {
          "output_type": "stream",
          "text": [
            "Quadratic fit Hubble constant for z < 1.70 = 62.25 +- 0.77\n",
            "Quadratic fit for the deceleration constant q = -0.01 +- 0.06\n",
            "The percentage of matter-energy in the Universe that is in Dark Energy is 0.16\n"
          ],
          "name": "stdout"
        },
        {
          "output_type": "display_data",
          "data": {
            "image/png": "[encoded data removed]",
            "text/plain": [
              "<Figure size 432x288 with 1 Axes>"
            ]
          },
          "metadata": {
            "tags": [],
            "needs_background": "light"
          }
        }
      ]
    },
    {
      "cell_type": "markdown",
      "metadata": {
        "id": "O8ZuOq3XWb42"
      },
      "source": [
        "the greater the redshift the greater the distance modulus\n",
        "when the distance modulus is greater, thnn apperant is strictly greater than the abbsolute. \n",
        "That means when the star is 10 parsecs away then the star should appear brighter than if it were right where it is\n",
        "The greater the redshift, the greater the distance that the star is away.\n",
        "we take the slope of the quadratic fit which is 62.25 and 52.66 for the linear fit.\n"
      ]
    },
    {
      "cell_type": "code",
      "metadata": {
        "id": "XWqWfEY6Wehx"
      },
      "source": [
        "#my hubble constant is off of the general hubble conatnat because it might not be using the correct limitation of redshift valhes. Since the universe is expanding and there are discrepecices from bent light in gas clouds"
      ],
      "execution_count": null,
      "outputs": []
    },
    {
      "cell_type": "code",
      "metadata": {
        "id": "IorGLIFl2O2U"
      },
      "source": [
        ""
      ],
      "execution_count": null,
      "outputs": []
    }
  ]
}